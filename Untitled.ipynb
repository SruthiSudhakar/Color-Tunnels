{
 "cells": [
  {
   "cell_type": "code",
   "execution_count": 33,
   "metadata": {},
   "outputs": [
    {
     "name": "stdout",
     "output_type": "stream",
     "text": [
      "The cython extension is already loaded. To reload it, use:\n",
      "  %reload_ext cython\n"
     ]
    }
   ],
   "source": [
    "%load_ext cython"
   ]
  },
  {
   "cell_type": "code",
   "execution_count": 34,
   "metadata": {},
   "outputs": [
    {
     "name": "stdout",
     "output_type": "stream",
     "text": [
      "The Cython extension is already loaded. To reload it, use:\n",
      "  %reload_ext Cython\n"
     ]
    }
   ],
   "source": [
    "%load_ext Cython"
   ]
  },
  {
   "cell_type": "code",
   "execution_count": 35,
   "metadata": {},
   "outputs": [],
   "source": [
    "import cython\n",
    "import cv2\n",
    "import numpy as np\n",
    "import sys\n",
    "from matplotlib import pyplot as plt\n",
    "import pdb\n",
    "from skimage import measure"
   ]
  },
  {
   "cell_type": "code",
   "execution_count": 36,
   "metadata": {},
   "outputs": [],
   "source": [
    "def find_edges(img):\n",
    "    v = np.median(img)\n",
    "    sigma = 0.33\n",
    "    #---- apply automatic Canny edge detection using the computed median----\n",
    "    lower = int(max(0, (1.0 - sigma) * v))\n",
    "    upper = int(min(255, (1.0 + sigma) * v))\n",
    "\n",
    "    edges = cv2.Canny(img, 100, 200)\n",
    "    return edges"
   ]
  },
  {
   "cell_type": "code",
   "execution_count": 55,
   "metadata": {},
   "outputs": [],
   "source": [
    "%%cython \n",
    "import cython\n",
    "cimport numpy as np\n",
    "import numpy as np\n",
    "@cython.boundscheck(False)\n",
    "def color_components(np.ndarray[np.uint8_t, ndim=2] img):\n",
    "\n",
    "    cdef int eq = len(np.unique(img))\n",
    "\n",
    "    cdef np.ndarray[np.uint8_t, ndim=3] nimg = np.expand_dims(img, axis = 2)\n",
    "    cdef np.ndarray[np.uint8_t, ndim=2] rainbow_list = np.array([[0, 0 , 0 ],\n",
    "        [148, 0, 211],\n",
    "        [75, 0, 130],\n",
    "        [0, 0, 255],\n",
    "        [40, 255, 0],\n",
    "        [55, 255, 0],\n",
    "        [255, 127, 0],\n",
    "        [255, 0 , 0 ]])\n",
    "    nimg = np.insert(nimg, 0, 255, axis=2)\n",
    "    nimg = np.insert(nimg, 0, 255, axis=2)\n",
    "    for i in range(eq):\n",
    "        \n",
    "        nimg[np.where((nimg==[255,255,i]).all(axis=2))]=rainbow_list[i%len(rainbow_list)]\n",
    "\n",
    "    return nimg"
   ]
  },
  {
   "cell_type": "code",
   "execution_count": 56,
   "metadata": {},
   "outputs": [],
   "source": [
    "def capture_camera():\n",
    "    # Open the device at the ID 0\n",
    "    cap = cv2.VideoCapture(0)\n",
    "\n",
    "    #Check whether user selected camera is opened successfully.\n",
    "    if not (cap.isOpened()):\n",
    "        print(\"Could not open video device\")\n",
    "\n",
    "    #To set the resolution\n",
    "    cap.set(cv2.CAP_PROP_FRAME_WIDTH, 640)\n",
    "    cap.set(cv2.CAP_PROP_FRAME_HEIGHT, 480)\n",
    "\n",
    "    while(True):\n",
    "        # Capture frame-by-frame\n",
    "        ret, frame = cap.read()\n",
    "\n",
    "        edges = find_edges(frame)\n",
    "        connected_components = measure.label(edges).astype(np.uint8)\n",
    "        colored_image = color_components(connected_components).astype(np.uint8)\n",
    "\n",
    "        # Display the resulting frame\n",
    "        cv2.imshow('preview',colored_image)\n",
    "\n",
    "        #Waits for a user input to quit the application\n",
    "        if cv2.waitKey(1) & 0xFF == ord('q'):\n",
    "            break\n",
    "    # When everything done, release the capture\n",
    "    cap.release()\n",
    "    cv2.destroyAllWindows()"
   ]
  },
  {
   "cell_type": "code",
   "execution_count": 7,
   "metadata": {},
   "outputs": [],
   "source": [
    "def find_connected_components(img):\n",
    "    # pdb.set_trace()\n",
    "    L = 0\n",
    "    A = img\n",
    "    width = img.shape[1]\n",
    "    length = img.shape[0]\n",
    "    Q = np.zeros(A.shape)\n",
    "    EQ = np.array([])\n",
    "    if A[0,0] > 0:\n",
    "        L+=1\n",
    "        EQ  = np.append(EQ, L)\n",
    "        Q[0,0] = L\n",
    "    for x in range(1, width):\n",
    "        if A[0,x] > 0 and A[0,x] == A[0, x-1]:\n",
    "            Q[0,x] = Q[0,x-1]\n",
    "        if A[0,x] > 0 and A[0,x] != A[0, x-1]:\n",
    "            L+=1\n",
    "            EQ  = np.append(EQ, L)\n",
    "            Q[0,x] = L\n",
    "    for y in range(1, length):\n",
    "        if A[y,0] > 0 and A[y,0] == A[y-1,0]:\n",
    "            Q[y,0] = Q[y-1,0]\n",
    "        if A[y,0] > 0 and A[y,0] != A[y-1,0]:\n",
    "            L+=1\n",
    "            EQ  = np.append(EQ, L)\n",
    "            Q[y,0] = L\n",
    "        for x in range(1,width):\n",
    "            p = A[y,x]\n",
    "            left = A[y,x-1]\n",
    "            qleft = Q[y,x-1]\n",
    "            up = A[y-1,x]\n",
    "            qup = Q[y-1,x]\n",
    "            lu = A[y-1,x-1]\n",
    "            qlu = Q[y-1,x-1]\n",
    "            if x == img.shape[1] - 2 or x == img.shape[1] - 1:\n",
    "                ru = A[y-1,x]\n",
    "                qru = Q[y-1,x]\n",
    "            else:\n",
    "                ru = A[y-1,x+1]\n",
    "                qru = Q[y-1,x+1]\n",
    "            if p > 0:\n",
    "                if up == 0 and left == 0 and lu == 0 and ru == 0:\n",
    "                    L+=1\n",
    "                    EQ  = np.append(EQ, L)\n",
    "                    Q[y,x] = L\n",
    "                else :\n",
    "                    if p == left and p == up and p == lu and p == ru and (qleft != qup or qup != qlu or qleft != qlu or qru!= qlu or qru != qup or qru!=qleft):\n",
    "                        pixels = [qleft,qup,qlu, qru]\n",
    "                        pixels.sort()\n",
    "                        L1 = pixels[0]\n",
    "                        L2 = pixels[1]\n",
    "                        L3 = pixels[2]\n",
    "                        L4 = pixels[3]\n",
    "                        Q[y,x] = L1\n",
    "                        EQ[int(L2)-1] = L1\n",
    "                        EQ[int(L3)-1] = L1\n",
    "                        EQ[int(L4)-1] = L1\n",
    "\n",
    "                    if p == left and p == up and p == lu and p == ru and (qleft == qup and qup == qlu and qleft == qlu and qru== qlu and qru==qup and qru==qleft):\n",
    "                        Q[y,x] = qleft\n",
    "\n",
    "                    if (p == left and p == ru) and qleft != qru:\n",
    "                        pixels = [qleft,qru]\n",
    "                        pixels.sort()\n",
    "                        L1 = pixels[0]\n",
    "                        L2 = pixels[1]\n",
    "                        Q[y,x] = L1\n",
    "                        EQ[int(L2)-1] = L1\n",
    "\n",
    "                    if p == left:\n",
    "                        Q[y,x] = qleft\n",
    "                    if p == up:\n",
    "                        Q[y,x] = qup\n",
    "                    if p == lu:\n",
    "                        Q[y,x] = qlu\n",
    "                    if p == ru:\n",
    "                        Q[y,x] = qru\n",
    "\n",
    "    for i in range(len(EQ),1,-1):\n",
    "        if (i) != EQ[i-1]:\n",
    "            Q[Q==(i)] = EQ[i-1]\n",
    "    pdb.set_trace()\n",
    "    return Q, EQ"
   ]
  },
  {
   "cell_type": "code",
   "execution_count": null,
   "metadata": {},
   "outputs": [],
   "source": []
  },
  {
   "cell_type": "code",
   "execution_count": null,
   "metadata": {},
   "outputs": [],
   "source": []
  },
  {
   "cell_type": "code",
   "execution_count": 57,
   "metadata": {},
   "outputs": [
    {
     "ename": "ValueError",
     "evalue": "Buffer dtype mismatch, expected 'uint8_t' but got 'long'",
     "output_type": "error",
     "traceback": [
      "\u001b[1;31m---------------------------------------------------------------------------\u001b[0m",
      "\u001b[1;31mValueError\u001b[0m                                Traceback (most recent call last)",
      "\u001b[1;32m<ipython-input-57-41784d2a224f>\u001b[0m in \u001b[0;36m<module>\u001b[1;34m\u001b[0m\n\u001b[1;32m----> 1\u001b[1;33m \u001b[0mcapture_camera\u001b[0m\u001b[1;33m(\u001b[0m\u001b[1;33m)\u001b[0m\u001b[1;33m\u001b[0m\u001b[1;33m\u001b[0m\u001b[0m\n\u001b[0m",
      "\u001b[1;32m<ipython-input-56-e900430bf639>\u001b[0m in \u001b[0;36mcapture_camera\u001b[1;34m()\u001b[0m\n\u001b[0;32m     17\u001b[0m         \u001b[0medges\u001b[0m \u001b[1;33m=\u001b[0m \u001b[0mfind_edges\u001b[0m\u001b[1;33m(\u001b[0m\u001b[0mframe\u001b[0m\u001b[1;33m)\u001b[0m\u001b[1;33m\u001b[0m\u001b[1;33m\u001b[0m\u001b[0m\n\u001b[0;32m     18\u001b[0m         \u001b[0mconnected_components\u001b[0m \u001b[1;33m=\u001b[0m \u001b[0mmeasure\u001b[0m\u001b[1;33m.\u001b[0m\u001b[0mlabel\u001b[0m\u001b[1;33m(\u001b[0m\u001b[0medges\u001b[0m\u001b[1;33m)\u001b[0m\u001b[1;33m.\u001b[0m\u001b[0mastype\u001b[0m\u001b[1;33m(\u001b[0m\u001b[0mnp\u001b[0m\u001b[1;33m.\u001b[0m\u001b[0muint8\u001b[0m\u001b[1;33m)\u001b[0m\u001b[1;33m\u001b[0m\u001b[1;33m\u001b[0m\u001b[0m\n\u001b[1;32m---> 19\u001b[1;33m         \u001b[0mcolored_image\u001b[0m \u001b[1;33m=\u001b[0m \u001b[0mcolor_components\u001b[0m\u001b[1;33m(\u001b[0m\u001b[0mconnected_components\u001b[0m\u001b[1;33m)\u001b[0m\u001b[1;33m.\u001b[0m\u001b[0mastype\u001b[0m\u001b[1;33m(\u001b[0m\u001b[0mnp\u001b[0m\u001b[1;33m.\u001b[0m\u001b[0muint8\u001b[0m\u001b[1;33m)\u001b[0m\u001b[1;33m\u001b[0m\u001b[1;33m\u001b[0m\u001b[0m\n\u001b[0m\u001b[0;32m     20\u001b[0m \u001b[1;33m\u001b[0m\u001b[0m\n\u001b[0;32m     21\u001b[0m         \u001b[1;31m# Display the resulting frame\u001b[0m\u001b[1;33m\u001b[0m\u001b[1;33m\u001b[0m\u001b[1;33m\u001b[0m\u001b[0m\n",
      "\u001b[1;32m_cython_magic_98dc70dedd9ede6b91b7b6919a87f23b.pyx\u001b[0m in \u001b[0;36m_cython_magic_98dc70dedd9ede6b91b7b6919a87f23b.color_components\u001b[1;34m()\u001b[0m\n",
      "\u001b[1;31mValueError\u001b[0m: Buffer dtype mismatch, expected 'uint8_t' but got 'long'"
     ]
    }
   ],
   "source": [
    "capture_camera()"
   ]
  }
 ],
 "metadata": {
  "kernelspec": {
   "display_name": "Python 3",
   "language": "python",
   "name": "python3"
  },
  "language_info": {
   "codemirror_mode": {
    "name": "ipython",
    "version": 3
   },
   "file_extension": ".py",
   "mimetype": "text/x-python",
   "name": "python",
   "nbconvert_exporter": "python",
   "pygments_lexer": "ipython3",
   "version": "3.6.10"
  }
 },
 "nbformat": 4,
 "nbformat_minor": 4
}
